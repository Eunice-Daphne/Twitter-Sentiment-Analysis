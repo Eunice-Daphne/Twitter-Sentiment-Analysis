{
 "cells": [
  {
   "cell_type": "code",
   "execution_count": 10,
   "metadata": {},
   "outputs": [],
   "source": [
    "import pandas as pd\n",
    "import numpy as np\n",
    "import re\n",
    "import sys\n",
    "from sklearn import *\n",
    "import nltk\n",
    "import re\n",
    "from nltk.corpus import stopwords\n",
    "from nltk.tokenize import word_tokenize \n",
    "from nltk.stem import PorterStemmer\n",
    "from sklearn.feature_extraction.text import *\n",
    "from sklearn.model_selection import train_test_split, KFold, cross_val_score, cross_val_predict\n",
    "from sklearn.svm import SVC\n",
    "from sklearn.tree import DecisionTreeClassifier\n",
    "from nltk.stem import WordNetLemmatizer \n",
    "from sklearn.ensemble import RandomForestClassifier"
   ]
  },
  {
   "cell_type": "code",
   "execution_count": 11,
   "metadata": {},
   "outputs": [
    {
     "name": "stderr",
     "output_type": "stream",
     "text": [
      "C:\\Users\\eunic\\Anaconda3\\lib\\site-packages\\pandas\\util\\_decorators.py:188: FutureWarning: The `sheetname` keyword is deprecated, use `sheet_name` instead\n",
      "  return func(*args, **kwargs)\n",
      "C:\\Users\\eunic\\Anaconda3\\lib\\site-packages\\ipykernel_launcher.py:48: SettingWithCopyWarning: \n",
      "A value is trying to be set on a copy of a slice from a DataFrame.\n",
      "Try using .loc[row_indexer,col_indexer] = value instead\n",
      "\n",
      "See the caveats in the documentation: http://pandas.pydata.org/pandas-docs/stable/indexing.html#indexing-view-versus-copy\n"
     ]
    }
   ],
   "source": [
    "#Loading dataset\n",
    "data_path = r\"C:/Users/eunic/OneDrive/Desktop/trainingObamaRomneytweets.xlsx\"\n",
    "data_romney = pd.read_excel(data_path, sheetname = 'Romney')\n",
    "\n",
    "# Removing rows with classes other than 1,-1,0\n",
    "data_romney = data_romney[(data_romney['Class'].isin((1,-1,0)))]\n",
    "\n",
    "stop_words = set(stopwords.words('english')) \n",
    "ps = PorterStemmer() \n",
    "lemmatizer = WordNetLemmatizer() \n",
    "lmtzr = WordNetLemmatizer()\n",
    "\n",
    "#predefined function for cleaning the text\n",
    "def clean_text(row):\n",
    "    tweet = str(row)\n",
    "    cleanr = re.compile('(</?[a-zA-Z]+>|https?:\\/\\/[^\\s]*|(^|\\s)RT(\\s|$)|@[^\\s]+|\\d+)')\n",
    "    cleantext = re.sub(cleanr, ' ', tweet)\n",
    "    cleantext = re.sub('(?<=^|(?<=[^a-zA-Z0-9-_\\.]))@([A-Za-z]+[A-Za-z0-9]+)',' ',cleantext)\n",
    "    cleantext = re.sub('[^\\sa-zA-Z]+','',cleantext)\n",
    "    cleantext = re.sub('\\s+',' ',cleantext)       \n",
    "    lower_case = cleantext.lower() \n",
    "    tweet = str(lower_case)\n",
    "    tweet = tweet.replace(\"'\", \"\")\n",
    "    tweet = tweet.replace(\"\\\"\",\"\")\n",
    "    tweet = lmtzr.lemmatize(tweet) \n",
    "    return tweet\n",
    "\n",
    "#Calculating tf-idf for each tweet\n",
    "def vectorize_data(tweets):\n",
    "    vectorizer = CountVectorizer()\n",
    "    vectorizer.fit(tweets)\n",
    "    vector = vectorizer.transform(tweets)\n",
    "    return vector\n",
    "\n",
    "#Extracting only the class and annotation from given file\n",
    "new_data_romney= data_romney[['Class','Anootated tweet']]\n",
    "\n",
    "#Creating a column with pre processed tweets\n",
    "new_data_romney['Cleaned_tweet'] = new_data_romney['Anootated tweet'].apply(clean_text)\n",
    "\n",
    "# converting the tweets and class to list form\n",
    "cleaned_romney_tweets = new_data_romney['Cleaned_tweet'].tolist()\n",
    "romney_class = new_data_romney['Class'].tolist()\n",
    "\n",
    "#Vectorizing the text data\n",
    "vector_romney_tweets = vectorize_data(cleaned_romney_tweets)"
   ]
  },
  {
   "cell_type": "code",
   "execution_count": 15,
   "metadata": {},
   "outputs": [
    {
     "name": "stdout",
     "output_type": "stream",
     "text": [
      " RandomForest Classifier\n",
      "Romney:  Acurracy:  0.5940155807365439\n",
      "Precision : [0.65591398 0.49956179 0.61256014]\n",
      "Recall [0.34046512 0.33928571 0.83615624]\n",
      "F1-Score [0.44825475 0.40411202 0.70710319]\n"
     ]
    }
   ],
   "source": [
    "# RandomForest Tree Classifier\n",
    "print(\" RandomForest Classifier\")\n",
    "model = RandomForestClassifier(criterion='entropy' , n_jobs = 10, n_estimators = 100)\n",
    "folds = KFold(n_splits = 10, shuffle = True)\n",
    "\n",
    "#Romney\n",
    "predicts1= cross_val_predict(model, vector_romney_tweets, romney_class, cv = folds)\n",
    "classes = [1,0,-1]\n",
    "accScore_romney = metrics.accuracy_score(romney_class,predicts1)\n",
    "precision = metrics.precision_score(romney_class,predicts1,average=None,labels=classes)\n",
    "recall = metrics.recall_score(romney_class,predicts1,average=None,labels=classes)\n",
    "f1Score = metrics.f1_score(romney_class,predicts1,average=None,labels=classes)\n",
    "print(\"Romney:  Acurracy: \",accScore_romney)\n",
    "print(\"Precision :\", precision)\n",
    "print(\"Recall\", recall)\n",
    "print(\"F1-Score\", f1Score)"
   ]
  }
 ],
 "metadata": {
  "kernelspec": {
   "display_name": "Python 3",
   "language": "python",
   "name": "python3"
  },
  "language_info": {
   "codemirror_mode": {
    "name": "ipython",
    "version": 3
   },
   "file_extension": ".py",
   "mimetype": "text/x-python",
   "name": "python",
   "nbconvert_exporter": "python",
   "pygments_lexer": "ipython3",
   "version": "3.7.0"
  }
 },
 "nbformat": 4,
 "nbformat_minor": 2
}
